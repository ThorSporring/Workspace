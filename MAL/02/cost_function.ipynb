{
 "cells": [
  {
   "cell_type": "markdown",
   "metadata": {},
   "source": [
    "# Qa Construct X the matrix"
   ]
  },
  {
   "cell_type": "code",
   "execution_count": 66,
   "metadata": {},
   "outputs": [
    {
     "name": "stdout",
     "output_type": "stream",
     "text": [
      "Design matrix = [[ 1  2  3]\n",
      " [ 4  2  1]\n",
      " [ 3  8  5]\n",
      " [-9 -1  0]]\n"
     ]
    }
   ],
   "source": [
    "# Qa\n",
    "\n",
    "import numpy as np\n",
    "\n",
    "y = np.array([1,2,3,4]) # NOTE:  you'll need this later\n",
    "\n",
    "# TODO..create and print the full matrix\n",
    "x1 = np.array([1,2,3])\n",
    "x2 = np.array([4,2,1])\n",
    "x3 = np.array([3,8,5])\n",
    "x4 = np.array([-9,-1,0])\n",
    "\n",
    "# x1_t = np.transpose(x1)\n",
    "# x2_t = np.transpose(x2)\n",
    "# x3_t = np.transpose(x3)\n",
    "# x4_t = np.transpose(x4)\n",
    "\n",
    "X = np.array([x1, x2, x3, x4])\n",
    "\n",
    "print(f\"Design matrix = {X}\")\n"
   ]
  },
  {
   "cell_type": "markdown",
   "metadata": {},
   "source": [
    "## Qb Implement L1, L2 and L2Dot"
   ]
  },
  {
   "cell_type": "code",
   "execution_count": 67,
   "metadata": {},
   "outputs": [
    {
     "name": "stdout",
     "output_type": "stream",
     "text": [
      "L1 function = 7.0\n",
      "L2 function = 3.872983346207417\n",
      "numpy function ord: 1 = 7.0\n",
      "numpy function ord: 2 = 3.872983346207417\n",
      "tx-ty=[-2  3 -1 -2], d1-expected_d1=0.0, d2-expected_d2=0.0\n",
      "OK(part-1)\n",
      "d2dot-expected_d2= 0.0\n",
      "OK(part-2)\n"
     ]
    }
   ],
   "source": [
    "# Qb\n",
    "\n",
    "import math\n",
    "\n",
    "\n",
    "def L1(vector):\n",
    "    assert vector.ndim == 1, \"Type not a vector\"\n",
    "    sum = 0\n",
    "    for x in vector:\n",
    "        sum += math.fabs(x)\n",
    "    assert sum >= 0, \"Sum can't be negative\"\n",
    "    return sum\n",
    "\n",
    "def L2(vector):\n",
    "    assert vector.ndim == 1, \"Type not a vector\"\n",
    "    sum = 0\n",
    "    for x in vector:\n",
    "        sum += x**2\n",
    "    assert sum >= 0, \"Sum can't be negative\"\n",
    "    return sum**0.5\n",
    "\n",
    "def L2Dot(vector):\n",
    "    assert vector.ndim == 1, \"Type not a vector\"\n",
    "    return np.dot(np.transpose(vector), vector)**0.5\n",
    "\n",
    "    \n",
    "# TEST vectors: here I test your implementation...calling your L1() and L2() functions\n",
    "tx=np.array([1, 2, 3, -1])\n",
    "ty=np.array([3,-1, 4,  1])\n",
    "\n",
    "print(f\"L1 function = {L1(tx)}\")\n",
    "print(f\"L2 function = {L2(tx)}\")\n",
    "\n",
    "print(f\"numpy function ord: 1 = {np.linalg.norm(tx, ord=1)}\")\n",
    "print(f\"numpy function ord: 2 = {np.linalg.norm(tx, ord=2)}\")\n",
    "\n",
    "d1=L1(tx-ty)\n",
    "d2=L2(tx-ty)\n",
    "\n",
    "\n",
    "expected_d1=8.0\n",
    "expected_d2=4.242640687119285\n",
    "\n",
    "print(f\"tx-ty={tx-ty}, d1-expected_d1={d1-expected_d1}, d2-expected_d2={d2-expected_d2}\")\n",
    "\n",
    "eps=1E-9 \n",
    "# NOTE: remember to import 'math' for fabs for the next two lines..\n",
    "assert math.fabs(d1-expected_d1)<eps, \"L1 dist seems to be wrong\" \n",
    "assert math.fabs(d2-expected_d2)<eps, \"L2 dist seems to be wrong\" \n",
    "\n",
    "print(\"OK(part-1)\")\n",
    "\n",
    "# comment-in once your L2Dot fun is ready...\n",
    "d2dot=L2Dot(tx-ty)\n",
    "print(\"d2dot-expected_d2=\",d2dot-expected_d2)\n",
    "assert math.fabs(d2dot-expected_d2)<eps, \"L2Ddot dist seem to be wrong\" \n",
    "print(\"OK(part-2)\")"
   ]
  },
  {
   "cell_type": "markdown",
   "metadata": {},
   "source": [
    "## Qc Implement RMSE "
   ]
  },
  {
   "cell_type": "code",
   "execution_count": 68,
   "metadata": {},
   "outputs": [
    {
     "name": "stdout",
     "output_type": "stream",
     "text": [
      "RMSE=6.576473218982953, diff=2.6645352591003757e-15\n",
      "OK\n"
     ]
    }
   ],
   "source": [
    "# Qc\n",
    "\n",
    "# The L2 function takes the square rooth of the return value before returning, so we have to square the return value once again, to make it fit with the RMSE equation \n",
    "def RMSE(x,y):\n",
    "    assert x.size == y.size, \"Vectors not same size\"\n",
    "    ret = 1/x.size * (L2((x-y))**2)\n",
    "    assert ret >= 0, \"return value can't be negative\"\n",
    "    return ret**0.5 \n",
    "\n",
    "\n",
    "# Dummy h function:\n",
    "def h(X):    \n",
    "    if X.ndim!=2:\n",
    "        raise ValueError(\"excpeted X to be of ndim=2, got ndim=\",X.ndim)\n",
    "    if X.shape[0]==0 or X.shape[1]==0:\n",
    "        raise ValueError(\"X got zero data along the 0/1 axis, cannot continue\")\n",
    "    return X[:,0]\n",
    "\n",
    "# Calls your RMSE() function:\n",
    "r=RMSE(h(X),y)\n",
    "\n",
    "# TEST vector:\n",
    "eps=1E-9\n",
    "expected=6.57647321898295\n",
    "print(f\"RMSE={r}, diff={r-expected}\")\n",
    "assert math.fabs(r-expected)<eps, \"your RMSE dist seems to be wrong\" \n",
    "\n",
    "print(\"OK\")"
   ]
  },
  {
   "cell_type": "markdown",
   "metadata": {},
   "source": [
    "## Qd Implement MAE"
   ]
  },
  {
   "cell_type": "code",
   "execution_count": 69,
   "metadata": {},
   "outputs": [
    {
     "name": "stdout",
     "output_type": "stream",
     "text": [
      "MAE=3.75, diff=0.0\n",
      "OK\n"
     ]
    }
   ],
   "source": [
    "# Qd\n",
    "def MAE(x,y):\n",
    "    assert x.size == y.size, \"Vectors not same size\"\n",
    "    ret = 1/x.size * L1(x-y)\n",
    "    assert ret >= 0, \"Return value can't be negative\"\n",
    "    return ret\n",
    "\n",
    "# Calls your MAE function:\n",
    "r=MAE(h(X), y)\n",
    "\n",
    "# TEST vector:\n",
    "expected=3.75\n",
    "print(f\"MAE={r}, diff={r-expected}\")\n",
    "assert math.fabs(r-expected)<eps, \"MAE dist seems to be wrong\" \n",
    "\n",
    "print(\"OK\")"
   ]
  },
  {
   "cell_type": "markdown",
   "metadata": {},
   "source": [
    "## Qe Pythonic code\n",
    "\n",
    "Pythonic code has been implemented for all the functions. Making asserts for types and valid values of input and return values."
   ]
  },
  {
   "cell_type": "markdown",
   "metadata": {},
   "source": [
    "## Qf Conclusion\n",
    "\n",
    "In these exercises, we dove into the core math concepts that underpin machine learning. We explored vectors and matrices and how we represent them in Python. Norms, which are essentially ways to measure distances. These specific norms are L1 and L2 norms, which describes two ways of measuring distance between two vectors. L1 returns the distance measure the shortest distance using horizontal and vertical lines (if 2D) (lines that follow the axis of the vector or matrix). L2 also returns distance between two vectors, but has the \"freedom\" of using the shortest distance possible, without being restricted by the axis. For L2, in 2D space for example, it would be able to measure the distance using diagonal lines.\n",
    "\n",
    "These functions can be used to measure the distance from the $h(X)$ and $y_{pred}$ for determining how good your machine learning model is. \n",
    "The MAE function was implemented aswell. This formula uses the norm distances from between the two vectors (L1), and outputs the absolute value of the mean of the errors. This gives another perspective of the errors of the ML model. RMSE has the same functionality, but using the L2 function as the distance. That means the euclidean distance between the vectors.\n",
    "\n",
    "Thereafter we used the opportunity of creating \"pythonic\" code, which rides on the principle of throwing errors as soon as possible. Instilling it this early in the course gives a good foundation for reliable python development to come."
   ]
  }
 ],
 "metadata": {
  "kernelspec": {
   "display_name": "Python 3 (ipykernel)",
   "language": "python",
   "name": "python3"
  },
  "language_info": {
   "codemirror_mode": {
    "name": "ipython",
    "version": 3
   },
   "file_extension": ".py",
   "mimetype": "text/x-python",
   "name": "python",
   "nbconvert_exporter": "python",
   "pygments_lexer": "ipython3",
   "version": "3.11.5"
  },
  "varInspector": {
   "cols": {
    "lenName": 16,
    "lenType": 16,
    "lenVar": 40
   },
   "kernels_config": {
    "python": {
     "delete_cmd_postfix": "",
     "delete_cmd_prefix": "del ",
     "library": "var_list.py",
     "varRefreshCmd": "print(var_dic_list())"
    },
    "r": {
     "delete_cmd_postfix": ") ",
     "delete_cmd_prefix": "rm(",
     "library": "var_list.r",
     "varRefreshCmd": "cat(var_dic_list()) "
    }
   },
   "types_to_exclude": [
    "module",
    "function",
    "builtin_function_or_method",
    "instance",
    "_Feature"
   ],
   "window_display": true
  }
 },
 "nbformat": 4,
 "nbformat_minor": 2
}
