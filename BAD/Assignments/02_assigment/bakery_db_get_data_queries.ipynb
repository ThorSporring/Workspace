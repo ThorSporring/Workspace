{
    "metadata": {
        "kernelspec": {
            "name": "SQL",
            "display_name": "SQL",
            "language": "sql"
        },
        "language_info": {
            "name": "sql",
            "version": ""
        }
    },
    "nbformat_minor": 2,
    "nbformat": 4,
    "cells": [
        {
            "cell_type": "markdown",
            "source": [
                "# Queries to test the database.\n",
                "\n",
                "The following queries returns what is asked in the assigment. The list of queries can be seen in the following order Elicitation of data queries of the system (minimum queries to be done):\n",
                "\n",
                "1. Get the current stock\n",
                "    \n",
                "2. Get the address and date for an order\n",
                "    \n",
                "3. Get the list of baked goods in an order.\n",
                "    \n",
                "4. Get the ingredients for a batch\n",
                "    \n",
                "5. Get the track ids corresponding to an order\n",
                "    \n",
                "6. Produce a table containing the quantities of each of the baking goods in all the orders received so far (NB: First column is in Ascending order):\n",
                "    \n",
                "7. Get the average delay for all the batches"
            ],
            "metadata": {
                "azdata_cell_guid": "6a1c1ade-15ad-48f5-8d29-86ca8c9bac53"
            },
            "attachments": {}
        },
        {
            "cell_type": "code",
            "source": [
                "USE Bakery_assignment2_db;\n",
                "GO\n",
                "\n",
                "-- Get the current stock\n",
                "SELECT * FROM Stock;\n",
                "GO\n",
                "\n",
                "-- Get the adress for order 1\n",
                "SELECT DeliveryPlace FROM Orders WHERE OrderId = 1;\n",
                "GO\n",
                "\n",
                "-- Get the list of baked goods in order 1\n",
                "SELECT BakedGoodName, Quantity\n",
                "FROM OrderItem\n",
                "WHERE OrderId = 1;\n",
                "GO\n",
                "\n",
                "-- Get the ingredients for batch number 101\n",
                "SELECT ri.IngredientId, i.IngredientName, ri.Quantity\n",
                "FROM RecipeIngredient ri\n",
                "JOIN Recipe r ON ri.RecipeId = r.RecipeId\n",
                "JOIN Batch b ON r.BakedGoodName = b.BakedGoodName\n",
                "JOIN Ingredient i ON ri.IngredientId = i.IngredientId\n",
                "WHERE b.BatchNumber = 101;\n",
                "\n",
                "-- Get the tracking id for order 1\n",
                "SELECT TrackingId\n",
                "FROM Packet\n",
                "WHERE OrderId = 1;\n",
                "GO\n",
                "\n",
                "-- Produce a table containing the quantities of each of the baking goods in \n",
                "-- all the orders received so far (NB: First column is in Ascending order)\n",
                "SELECT BakedGoodName, SUM(Quantity) AS TotalQuantity\n",
                "FROM OrderItem\n",
                "GROUP BY BakedGoodName\n",
                "ORDER BY BakedGoodName ASC;\n",
                "GO\n",
                "\n",
                "-- Get the average delay for all the batches\n",
                "SELECT AVG(Delay) AS AverageDelay\n",
                "FROM Batch;\n",
                "GO"
            ],
            "metadata": {
                "vscode": {
                    "languageId": "sql"
                },
                "azdata_cell_guid": "6dc06f8f-b5a7-4730-8482-5fc21ec6b356",
                "language": "sql"
            },
            "outputs": [
                {
                    "output_type": "display_data",
                    "data": {
                        "text/html": "Commands completed successfully."
                    },
                    "metadata": {}
                },
                {
                    "output_type": "display_data",
                    "data": {
                        "text/html": "(6 rows affected)"
                    },
                    "metadata": {}
                },
                {
                    "output_type": "display_data",
                    "data": {
                        "text/html": "(1 row affected)"
                    },
                    "metadata": {}
                },
                {
                    "output_type": "display_data",
                    "data": {
                        "text/html": "(1 row affected)"
                    },
                    "metadata": {}
                },
                {
                    "output_type": "display_data",
                    "data": {
                        "text/html": "(4 rows affected)"
                    },
                    "metadata": {}
                },
                {
                    "output_type": "display_data",
                    "data": {
                        "text/html": "(1 row affected)"
                    },
                    "metadata": {}
                },
                {
                    "output_type": "display_data",
                    "data": {
                        "text/html": "(2 rows affected)"
                    },
                    "metadata": {}
                },
                {
                    "output_type": "display_data",
                    "data": {
                        "text/html": "(1 row affected)"
                    },
                    "metadata": {}
                },
                {
                    "output_type": "display_data",
                    "data": {
                        "text/html": "Total execution time: 00:00:00.098"
                    },
                    "metadata": {}
                },
                {
                    "output_type": "execute_result",
                    "metadata": {},
                    "execution_count": 1,
                    "data": {
                        "application/vnd.dataresource+json": {
                            "schema": {
                                "fields": [
                                    {
                                        "name": "StockId"
                                    },
                                    {
                                        "name": "Ingredient"
                                    },
                                    {
                                        "name": "Quantity"
                                    }
                                ]
                            },
                            "data": [
                                {
                                    "StockId": "1",
                                    "Ingredient": "Flour",
                                    "Quantity": "1000"
                                },
                                {
                                    "StockId": "2",
                                    "Ingredient": "Sugar",
                                    "Quantity": "800"
                                },
                                {
                                    "StockId": "3",
                                    "Ingredient": "Eggs",
                                    "Quantity": "200"
                                },
                                {
                                    "StockId": "4",
                                    "Ingredient": "Chocolate Chips",
                                    "Quantity": "300"
                                },
                                {
                                    "StockId": "5",
                                    "Ingredient": "Blueberries",
                                    "Quantity": "150"
                                },
                                {
                                    "StockId": "6",
                                    "Ingredient": "Cinnamon",
                                    "Quantity": "50"
                                }
                            ]
                        },
                        "text/html": [
                            "<table>",
                            "<tr><th>StockId</th><th>Ingredient</th><th>Quantity</th></tr>",
                            "<tr><td>1</td><td>Flour</td><td>1000</td></tr>",
                            "<tr><td>2</td><td>Sugar</td><td>800</td></tr>",
                            "<tr><td>3</td><td>Eggs</td><td>200</td></tr>",
                            "<tr><td>4</td><td>Chocolate Chips</td><td>300</td></tr>",
                            "<tr><td>5</td><td>Blueberries</td><td>150</td></tr>",
                            "<tr><td>6</td><td>Cinnamon</td><td>50</td></tr>",
                            "</table>"
                        ]
                    }
                },
                {
                    "output_type": "execute_result",
                    "metadata": {},
                    "execution_count": 1,
                    "data": {
                        "application/vnd.dataresource+json": {
                            "schema": {
                                "fields": [
                                    {
                                        "name": "DeliveryPlace"
                                    }
                                ]
                            },
                            "data": [
                                {
                                    "DeliveryPlace": "123 Main St"
                                }
                            ]
                        },
                        "text/html": [
                            "<table>",
                            "<tr><th>DeliveryPlace</th></tr>",
                            "<tr><td>123 Main St</td></tr>",
                            "</table>"
                        ]
                    }
                },
                {
                    "output_type": "execute_result",
                    "metadata": {},
                    "execution_count": 1,
                    "data": {
                        "application/vnd.dataresource+json": {
                            "schema": {
                                "fields": [
                                    {
                                        "name": "BakedGoodName"
                                    },
                                    {
                                        "name": "Quantity"
                                    }
                                ]
                            },
                            "data": [
                                {
                                    "BakedGoodName": "Chocolate Chip Cookies",
                                    "Quantity": "100"
                                }
                            ]
                        },
                        "text/html": [
                            "<table>",
                            "<tr><th>BakedGoodName</th><th>Quantity</th></tr>",
                            "<tr><td>Chocolate Chip Cookies</td><td>100</td></tr>",
                            "</table>"
                        ]
                    }
                },
                {
                    "output_type": "execute_result",
                    "metadata": {},
                    "execution_count": 1,
                    "data": {
                        "application/vnd.dataresource+json": {
                            "schema": {
                                "fields": [
                                    {
                                        "name": "IngredientId"
                                    },
                                    {
                                        "name": "IngredientName"
                                    },
                                    {
                                        "name": "Quantity"
                                    }
                                ]
                            },
                            "data": [
                                {
                                    "IngredientId": "1",
                                    "IngredientName": "Flour",
                                    "Quantity": "300"
                                },
                                {
                                    "IngredientId": "2",
                                    "IngredientName": "Sugar",
                                    "Quantity": "200"
                                },
                                {
                                    "IngredientId": "3",
                                    "IngredientName": "Eggs",
                                    "Quantity": "2"
                                },
                                {
                                    "IngredientId": "4",
                                    "IngredientName": "Chocolate Chips",
                                    "Quantity": "150"
                                }
                            ]
                        },
                        "text/html": [
                            "<table>",
                            "<tr><th>IngredientId</th><th>IngredientName</th><th>Quantity</th></tr>",
                            "<tr><td>1</td><td>Flour</td><td>300</td></tr>",
                            "<tr><td>2</td><td>Sugar</td><td>200</td></tr>",
                            "<tr><td>3</td><td>Eggs</td><td>2</td></tr>",
                            "<tr><td>4</td><td>Chocolate Chips</td><td>150</td></tr>",
                            "</table>"
                        ]
                    }
                },
                {
                    "output_type": "execute_result",
                    "metadata": {},
                    "execution_count": 1,
                    "data": {
                        "application/vnd.dataresource+json": {
                            "schema": {
                                "fields": [
                                    {
                                        "name": "TrackingId"
                                    }
                                ]
                            },
                            "data": [
                                {
                                    "TrackingId": "101"
                                }
                            ]
                        },
                        "text/html": [
                            "<table>",
                            "<tr><th>TrackingId</th></tr>",
                            "<tr><td>101</td></tr>",
                            "</table>"
                        ]
                    }
                },
                {
                    "output_type": "execute_result",
                    "metadata": {},
                    "execution_count": 1,
                    "data": {
                        "application/vnd.dataresource+json": {
                            "schema": {
                                "fields": [
                                    {
                                        "name": "BakedGoodName"
                                    },
                                    {
                                        "name": "TotalQuantity"
                                    }
                                ]
                            },
                            "data": [
                                {
                                    "BakedGoodName": "Blueberry Muffins",
                                    "TotalQuantity": "50"
                                },
                                {
                                    "BakedGoodName": "Chocolate Chip Cookies",
                                    "TotalQuantity": "100"
                                }
                            ]
                        },
                        "text/html": [
                            "<table>",
                            "<tr><th>BakedGoodName</th><th>TotalQuantity</th></tr>",
                            "<tr><td>Blueberry Muffins</td><td>50</td></tr>",
                            "<tr><td>Chocolate Chip Cookies</td><td>100</td></tr>",
                            "</table>"
                        ]
                    }
                },
                {
                    "output_type": "execute_result",
                    "metadata": {},
                    "execution_count": 1,
                    "data": {
                        "application/vnd.dataresource+json": {
                            "schema": {
                                "fields": [
                                    {
                                        "name": "AverageDelay"
                                    }
                                ]
                            },
                            "data": [
                                {
                                    "AverageDelay": "0"
                                }
                            ]
                        },
                        "text/html": [
                            "<table>",
                            "<tr><th>AverageDelay</th></tr>",
                            "<tr><td>0</td></tr>",
                            "</table>"
                        ]
                    }
                }
            ],
            "execution_count": 1
        }
    ]
}