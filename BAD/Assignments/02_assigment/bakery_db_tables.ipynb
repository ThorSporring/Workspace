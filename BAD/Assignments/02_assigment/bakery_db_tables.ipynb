{
    "metadata": {
        "kernelspec": {
            "name": "SQL",
            "display_name": "SQL",
            "language": "sql"
        },
        "language_info": {
            "name": "sql",
            "version": ""
        }
    },
    "nbformat_minor": 2,
    "nbformat": 4,
    "cells": [
        {
            "cell_type": "markdown",
            "source": [
                "# Creating all necessary tables\n",
                "The following queries creates the whole table database structure from the ER diagram."
            ],
            "metadata": {
                "azdata_cell_guid": "9d12155c-0451-4f5e-bde8-a13f2d3b122b"
            }
        },
        {
            "cell_type": "code",
            "source": [
                "USE master;\n",
                "-- FOR THIS APPLICATION, ALWAYS CREATE A NEW DATABASE, THIS IS NOT RECOMMENDED IF IT SHOULD BE USED \n",
                "DROP DATABASE IF EXISTS Bakery_assignment2_db;\n",
                "\n",
                "-- Create the database\n",
                "CREATE DATABASE Bakery_assignment2_db;\n",
                "\n",
                "-- Use the database\n",
                "USE Bakery_assignment2_db;\n",
                "\n",
                "-- Orders Table\n",
                "CREATE TABLE Orders(\n",
                "    OrderId INT PRIMARY KEY,\n",
                "    DeliveryDate DATE,\n",
                "    DeliveryPlace VARCHAR(255),\n",
                "    Supermarket VARCHAR(255)\n",
                ");\n",
                "\n",
                "-- Baked Good Table\n",
                "CREATE TABLE BakedGood (\n",
                "    BakedGoodName VARCHAR(255) PRIMARY KEY\n",
                ");\n",
                "\n",
                "-- Order Item Table\n",
                "CREATE TABLE OrderItem (\n",
                "    OrderItemId INT PRIMARY KEY,\n",
                "    Quantity INT,\n",
                "    OrderId INT FOREIGN KEY REFERENCES Orders(OrderId),\n",
                "    BakedGoodName VARCHAR(255) FOREIGN KEY REFERENCES BakedGood(BakedGoodName)\n",
                ");\n",
                "\n",
                "-- Ingredient Table\n",
                "CREATE TABLE Ingredient (\n",
                "    IngredientId INT PRIMARY KEY,\n",
                "    IngredientName VARCHAR(255) NOT NULL\n",
                ");\n",
                "\n",
                "-- Recipe Table\n",
                "CREATE TABLE Recipe (\n",
                "    RecipeId INT PRIMARY KEY,\n",
                "    BakedGoodName VARCHAR(255) FOREIGN KEY REFERENCES BakedGood(BakedGoodName)\n",
                ");\n",
                "\n",
                "-- RecipeIngredient Table (Links Recipe to Ingredient)\n",
                "CREATE TABLE RecipeIngredient (\n",
                "    RecipeId INT,\n",
                "    IngredientId INT,\n",
                "    Quantity INT,\n",
                "    PRIMARY KEY (RecipeId, IngredientId),\n",
                "    FOREIGN KEY (RecipeId) REFERENCES Recipe(RecipeId),\n",
                "    FOREIGN KEY (IngredientId) REFERENCES Ingredient(IngredientId)\n",
                ");\n",
                "\n",
                "-- Batch Table\n",
                "CREATE TABLE Batch (\n",
                "    BatchNumber INT PRIMARY KEY,\n",
                "    AmountMade INT,\n",
                "    StartTime DATETIME,\n",
                "    FinishTime DATETIME,\n",
                "    Delay INT,\n",
                "    OrderId INT FOREIGN KEY REFERENCES Orders(OrderId),\n",
                "    BakedGoodName VARCHAR(255) FOREIGN KEY REFERENCES BakedGood(BakedGoodName),\n",
                "    QuantityRequested INT -- This is the quantity requested for this batch in the order\n",
                ");\n",
                "\n",
                "-- Stock Table\n",
                "CREATE TABLE Stock (\n",
                "    StockId INT PRIMARY KEY,\n",
                "    Ingredient VARCHAR(255),\n",
                "    Quantity INT\n",
                ");\n",
                "\n",
                "-- Packet Table\n",
                "CREATE TABLE Packet (\n",
                "    Route VARCHAR(255),\n",
                "    TrackingId INT PRIMARY KEY,\n",
                "    OrderId INT FOREIGN KEY REFERENCES Orders(OrderId)\n",
                ");\n",
                "\n",
                "-- Ensuring Availability on Many Batches (using a junction table)\n",
                "CREATE TABLE StockBatch (\n",
                "    StockId INT,\n",
                "    BatchNumber INT,\n",
                "    PRIMARY KEY (StockId, BatchNumber),\n",
                "    FOREIGN KEY (StockId) REFERENCES Stock(StockId),\n",
                "    FOREIGN KEY (BatchNumber) REFERENCES Batch(BatchNumber)\n",
                ");"
            ],
            "metadata": {
                "azdata_cell_guid": "948d2e6d-8cbb-4bbe-9772-ec05ece03b42",
                "language": "sql"
            },
            "outputs": [
                {
                    "output_type": "display_data",
                    "data": {
                        "text/html": "Commands completed successfully."
                    },
                    "metadata": {}
                },
                {
                    "output_type": "display_data",
                    "data": {
                        "text/html": "Total execution time: 00:00:00.412"
                    },
                    "metadata": {}
                }
            ],
            "execution_count": 1
        }
    ]
}