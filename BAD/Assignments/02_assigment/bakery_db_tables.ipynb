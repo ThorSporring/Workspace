{
    "metadata": {
        "kernelspec": {
            "name": "SQL",
            "display_name": "SQL",
            "language": "sql"
        },
        "language_info": {
            "name": "sql",
            "version": ""
        }
    },
    "nbformat_minor": 2,
    "nbformat": 4,
    "cells": [
        {
            "cell_type": "markdown",
            "source": [
                "# Creating all necessary tables\n",
                "The following queries creates the whole table database structure from the ER diagram."
            ],
            "metadata": {
                "azdata_cell_guid": "9d12155c-0451-4f5e-bde8-a13f2d3b122b"
            }
        },
        {
            "cell_type": "code",
            "source": [
                "-- Create the database\n",
                "CREATE DATABASE Bakery_assignment2;\n",
                "\n",
                "-- Use the database\n",
                "USE Bakery_assignment2;\n",
                "\n",
                "-- Create the table \"Orders\" \n",
                "CREATE TABLE Orders (\n",
                "    orderId INT IDENTITY(0,1),\n",
                "    deliveryDate NVARCHAR(50),\n",
                "    deliveryPlace NVARCHAR(50),\n",
                "    supermarket NVARCHAR(50),\n",
                "    CONSTRAINT pk_Orders PRIMARY KEY (orderId),\n",
                ");\n",
                "\n",
                "-- Create the table \"Orders\" \n",
                "CREATE TABLE OrderItem (\n",
                "    orderItemId INT IDENTITY(0,1),\n",
                "    quantity INT,\n",
                "    CONSTRAINT pk_OrderItem PRIMARY KEY (orderItemId)\n",
                ");\n",
                "\n",
                "-- Create the table \"Orders\" \n",
                "CREATE TABLE BakedGoods (\n",
                "    BakedGoodName NVARCHAR(50),\n",
                "    CONSTRAINT pk_BakedGoodName PRIMARY KEY(BakedGoodName)\n",
                ");\n",
                "\n",
                "\n",
                ""
            ],
            "metadata": {
                "vscode": {
                    "languageId": "sql"
                },
                "azdata_cell_guid": "948d2e6d-8cbb-4bbe-9772-ec05ece03b42",
                "language": "sql"
            },
            "outputs": [
                {
                    "output_type": "error",
                    "ename": "",
                    "evalue": "Msg 1801, Level 16, State 3, Line 2\r\nDatabase 'Bakery_assignment2' already exists. Choose a different database name.",
                    "traceback": []
                },
                {
                    "output_type": "display_data",
                    "data": {
                        "text/html": "Total execution time: 00:00:00.052"
                    },
                    "metadata": {}
                }
            ],
            "execution_count": 2
        }
    ]
}