{
    "cells": [
        {
            "cell_type": "markdown",
            "metadata": {
                "azdata_cell_guid": "722e713e-f6aa-479f-ade9-236612005a19"
            },
            "source": [
                "# Seeding the database with dummy data\n",
                "The following queries seeds the database with dummy data, so we can test the database structure, and see if we can pull out the necessary data."
            ]
        },
        {
            "cell_type": "code",
            "execution_count": 1,
            "metadata": {
                "azdata_cell_guid": "5956031d-9980-47a1-b376-7b4727f424cf",
                "language": "sql",
                "tags": []
            },
            "outputs": [
                {
                    "data": {
                        "text/html": [
                            "Commands completed successfully."
                        ]
                    },
                    "metadata": {},
                    "output_type": "display_data"
                },
                {
                    "data": {
                        "text/html": [
                            "(3 rows affected)"
                        ]
                    },
                    "metadata": {},
                    "output_type": "display_data"
                },
                {
                    "data": {
                        "text/html": [
                            "(6 rows affected)"
                        ]
                    },
                    "metadata": {},
                    "output_type": "display_data"
                },
                {
                    "data": {
                        "text/html": [
                            "(2 rows affected)"
                        ]
                    },
                    "metadata": {},
                    "output_type": "display_data"
                },
                {
                    "data": {
                        "text/html": [
                            "(2 rows affected)"
                        ]
                    },
                    "metadata": {},
                    "output_type": "display_data"
                },
                {
                    "data": {
                        "text/html": [
                            "(2 rows affected)"
                        ]
                    },
                    "metadata": {},
                    "output_type": "display_data"
                },
                {
                    "data": {
                        "text/html": [
                            "(8 rows affected)"
                        ]
                    },
                    "metadata": {},
                    "output_type": "display_data"
                },
                {
                    "data": {
                        "text/html": [
                            "(2 rows affected)"
                        ]
                    },
                    "metadata": {},
                    "output_type": "display_data"
                },
                {
                    "data": {
                        "text/html": [
                            "(6 rows affected)"
                        ]
                    },
                    "metadata": {},
                    "output_type": "display_data"
                },
                {
                    "data": {
                        "text/html": [
                            "(8 rows affected)"
                        ]
                    },
                    "metadata": {},
                    "output_type": "display_data"
                },
                {
                    "data": {
                        "text/html": [
                            "(2 rows affected)"
                        ]
                    },
                    "metadata": {},
                    "output_type": "display_data"
                },
                {
                    "data": {
                        "text/html": [
                            "Total execution time: 00:00:00.040"
                        ]
                    },
                    "metadata": {},
                    "output_type": "display_data"
                }
            ],
            "source": [
                "USE Bakery_assignment2_db;\n",
                "GO\n",
                "\n",
                "-- Insert data into BakedGood table\n",
                "INSERT INTO BakedGood (BakedGoodName) VALUES\n",
                "    ('Chocolate Chip Cookies'),\n",
                "    ('Blueberry Muffins'),\n",
                "    ('Cinnamon Rolls');\n",
                "\n",
                "-- Insert data into Ingredient table\n",
                "INSERT INTO Ingredient (IngredientId, IngredientName) VALUES\n",
                "    (1, 'Flour'),\n",
                "    (2, 'Sugar'),\n",
                "    (3, 'Eggs'),\n",
                "    (4, 'Chocolate Chips'),\n",
                "    (5, 'Blueberries'),\n",
                "    (6, 'Cinnamon');\n",
                "\n",
                "-- Insert data into Orders table\n",
                "INSERT INTO Orders (OrderId, DeliveryDate, DeliveryPlace, Supermarket) VALUES\n",
                "    (1, '2024-03-01', '123 Main St', 'LocalMart'),\n",
                "    (2, '2024-03-02', '456 Oak St', 'SuperGrocery');\n",
                "\n",
                "-- Insert data into OrderItem table\n",
                "INSERT INTO OrderItem (OrderItemId, Quantity, OrderId, BakedGoodName) VALUES\n",
                "    (1, 100, 1, 'Chocolate Chip Cookies'),\n",
                "    (2, 50, 2, 'Blueberry Muffins');\n",
                "\n",
                "-- Insert data into Recipe table\n",
                "INSERT INTO Recipe (RecipeId, BakedGoodName) VALUES\n",
                "    (1, 'Chocolate Chip Cookies'),\n",
                "    (2, 'Blueberry Muffins');\n",
                "\n",
                "-- Insert data into RecipeIngredient table\n",
                "INSERT INTO RecipeIngredient (RecipeId, IngredientId, Quantity) VALUES\n",
                "    (1, 1, 300), -- 300g Flour for Chocolate Chip Cookies\n",
                "    (1, 2, 200), -- 200g Sugar for Chocolate Chip Cookies\n",
                "    (1, 3, 2),   -- 2 Eggs for Chocolate Chip Cookies\n",
                "    (1, 4, 150), -- 150g Chocolate Chips for Chocolate Chip Cookies\n",
                "\n",
                "    (2, 1, 250), -- 250g Flour for Blueberry Muffins\n",
                "    (2, 2, 150), -- 150g Sugar for Blueberry Muffins\n",
                "    (2, 3, 3),   -- 3 Eggs for Blueberry Muffins\n",
                "    (2, 5, 100); -- 100g Blueberries for Blueberry Muffins\n",
                "\n",
                "-- Insert data into Batch table\n",
                "INSERT INTO Batch (BatchNumber, AmountMade, StartTime, FinishTime, Delay, OrderId, BakedGoodName, QuantityRequested) VALUES\n",
                "    (101, 100, '2024-03-01 08:00:00', '2024-03-01 10:00:00', 0, 1, 'Chocolate Chip Cookies', 100),\n",
                "    (102, 50, '2024-03-02 09:00:00', '2024-03-02 11:00:00', 0, 2, 'Blueberry Muffins', 50);\n",
                "    \n",
                "-- Insert data into Stock table\n",
                "INSERT INTO Stock (StockId, Ingredient, Quantity) VALUES\n",
                "    (1, 'Flour', 1000),\n",
                "    (2, 'Sugar', 800),\n",
                "    (3, 'Eggs', 200),\n",
                "    (4, 'Chocolate Chips', 300),\n",
                "    (5, 'Blueberries', 150),\n",
                "    (6, 'Cinnamon', 50);\n",
                "\n",
                "-- Insert data into StockBatch table\n",
                "INSERT INTO StockBatch (StockId, BatchNumber) VALUES\n",
                "    (1, 101), -- Batch 101 uses Flour\n",
                "    (2, 101), -- Batch 101 uses Sugar\n",
                "    (3, 101), -- Batch 101 uses Eggs\n",
                "    (4, 101), -- Batch 101 uses Chocolate Chips\n",
                "\n",
                "    (1, 102), -- Batch 102 uses Flour\n",
                "    (2, 102), -- Batch 102 uses Sugar\n",
                "    (3, 102), -- Batch 102 uses Eggs\n",
                "    (5, 102); -- Batch 102 uses Blueberries\n",
                "\n",
                "INSERT INTO Packet (Route, TrackingId, OrderId) VALUES\n",
                "    ('LocalMart', 101, 1),\n",
                "    ('SuperGrocery', 102, 2);\n"
            ]
        }
    ],
    "metadata": {
        "kernelspec": {
            "display_name": "SQL",
            "language": "sql",
            "name": "SQL"
        },
        "language_info": {
            "name": "sql",
            "version": ""
        }
    },
    "nbformat": 4,
    "nbformat_minor": 2
}
