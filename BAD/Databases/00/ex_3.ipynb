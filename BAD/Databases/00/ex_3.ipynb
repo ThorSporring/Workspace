{
    "metadata": {
        "kernelspec": {
            "name": "SQL",
            "display_name": "SQL",
            "language": "sql"
        },
        "language_info": {
            "name": "sql",
            "version": ""
        }
    },
    "nbformat_minor": 2,
    "nbformat": 4,
    "cells": [
        {
            "cell_type": "code",
            "source": [
                "-- Create a new database called 'electronicsDB'\r\n",
                "-- Connect to the 'master' database to run this snippet\r\n",
                "USE master\r\n",
                "\r\n",
                "-- Create the new database if it does not exist already\r\n",
                "IF NOT EXISTS (\r\n",
                "    SELECT [name]\r\n",
                "        FROM sys.databases\r\n",
                "        WHERE [name] = N'electronicsDB'\r\n",
                ")\r\n",
                "CREATE DATABASE electronicsDB\r\n",
                "\r\n",
                "USE electronicsDB\r\n",
                "\r\n",
                "\r\n",
                "-- Create a new table called '[Product]' in schema '[dbo]'\r\n",
                "-- Drop the table if it already exists\r\n",
                "IF OBJECT_ID('[dbo].[Product]', 'U') IS NOT NULL\r\n",
                "DROP TABLE [dbo].[Product]\r\n",
                "\r\n",
                "-- Create the table in the specified schema\r\n",
                "CREATE TABLE [dbo].[Product]\r\n",
                "(\r\n",
                "    [maker] NVARCHAR(50) NOT NULL,\r\n",
                "    [model] NVARCHAR(50) NOT NULL,\r\n",
                "    [type]  NVARCHAR(50) NOT NULL\r\n",
                "    -- Specify more columns here\r\n",
                ");\r\n",
                "\r\n",
                "\r\n",
                "-- Create a new table called '[PC]' in schema '[dbo]'\r\n",
                "-- Drop the table if it already exists\r\n",
                "IF OBJECT_ID('[dbo].[PC]', 'U') IS NOT NULL\r\n",
                "DROP TABLE [dbo].[PC]\r\n",
                "\r\n",
                "-- Create the table in the specified schema\r\n",
                "CREATE TABLE [dbo].[PC]\r\n",
                "(\r\n",
                "    [model] NVARCHAR(50) NOT NULL,\r\n",
                "    [speed] INTEGER,\r\n",
                "    [ram] INTEGER,\r\n",
                "    [hd] INTEGER,\r\n",
                "    [price] DECIMAL\r\n",
                "    -- Specify more columns here\r\n",
                ");\r\n",
                "\r\n",
                "\r\n",
                "-- Create a new table called '[Laptop]' in schema '[dbo]'\r\n",
                "-- Drop the table if it already exists\r\n",
                "IF OBJECT_ID('[dbo].[Laptop]', 'U') IS NOT NULL\r\n",
                "DROP TABLE [dbo].[Laptop]\r\n",
                "\r\n",
                "-- Create the table in the specified schema\r\n",
                "CREATE TABLE [dbo].[Laptop]\r\n",
                "(\r\n",
                "    [speed] INTEGER,\r\n",
                "    [ram] INTEGER,\r\n",
                "    [hd] INTEGER,\r\n",
                "    [screen] NVARCHAR(50),\r\n",
                "    [price] DECIMAL\r\n",
                "    -- Specify more columns here\r\n",
                ");\r\n",
                "\r\n",
                "\r\n",
                "-- Create a new table called '[Printer]' in schema '[dbo]'\r\n",
                "-- Drop the table if it already exists\r\n",
                "IF OBJECT_ID('[dbo].[Printer]', 'U') IS NOT NULL\r\n",
                "DROP TABLE [dbo].[Printer]\r\n",
                "\r\n",
                "-- Create the table in the specified schema\r\n",
                "CREATE TABLE [dbo].[Printer]\r\n",
                "(\r\n",
                "    [model] NVARCHAR(50) NOT NULL,\r\n",
                "    [color] NVARCHAR(50) NOT NULL,\r\n",
                "    [type] NVARCHAR(50) NOT NULL,\r\n",
                "    [price] DECIMAL\r\n",
                "    -- Specify more columns here\r\n",
                ");\r\n",
                "GO\r\n",
                "\r\n",
                "\r\n",
                "\r\n",
                ""
            ],
            "metadata": {
                "azdata_cell_guid": "bc93bd89-560b-4360-9bc6-c538cb755eda",
                "language": "sql",
                "tags": []
            },
            "outputs": [
                {
                    "output_type": "display_data",
                    "data": {
                        "text/html": "Commands completed successfully."
                    },
                    "metadata": {}
                },
                {
                    "output_type": "display_data",
                    "data": {
                        "text/html": "Total execution time: 00:00:00.088"
                    },
                    "metadata": {}
                }
            ],
            "execution_count": 15
        },
        {
            "cell_type": "code",
            "source": [
                "USE electronicsDB;\r\n",
                "ALTER TABLE Printer DROP COLUMN color;\r\n",
                "GO\r\n",
                "\r\n",
                "ALTER TABLE Laptop ADD od VARCHAR(50) DEFAULT 'none';"
            ],
            "metadata": {
                "azdata_cell_guid": "b92320ed-8571-4d22-9db9-00f7c7549e49",
                "language": "sql"
            },
            "outputs": [
                {
                    "output_type": "display_data",
                    "data": {
                        "text/html": "Commands completed successfully."
                    },
                    "metadata": {}
                },
                {
                    "output_type": "display_data",
                    "data": {
                        "text/html": "Commands completed successfully."
                    },
                    "metadata": {}
                },
                {
                    "output_type": "display_data",
                    "data": {
                        "text/html": "Total execution time: 00:00:00.041"
                    },
                    "metadata": {}
                }
            ],
            "execution_count": 16
        }
    ]
}