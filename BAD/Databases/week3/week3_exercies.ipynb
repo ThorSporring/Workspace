{
    "cells": [
        {
            "cell_type": "code",
            "execution_count": 4,
            "metadata": {
                "azdata_cell_guid": "afc0039a-f91a-4ae5-9895-e842c928d4b7",
                "language": "sql"
            },
            "outputs": [
                {
                    "data": {
                        "text/html": [
                            "Commands completed successfully."
                        ]
                    },
                    "metadata": {},
                    "output_type": "display_data"
                },
                {
                    "data": {
                        "text/html": [
                            "Commands completed successfully."
                        ]
                    },
                    "metadata": {},
                    "output_type": "display_data"
                },
                {
                    "data": {
                        "text/html": [
                            "Total execution time: 00:00:00.387"
                        ]
                    },
                    "metadata": {},
                    "output_type": "display_data"
                }
            ],
            "source": [
                "--Exercise 15 DDL\n",
                "\n",
                "--1.\tMap a 1-1 relationship between a customer and his/hers address\n",
                "CREATE TABLE Address(\n",
                "    id bigint IDENTITY(0,1),\n",
                "    street NVARCHAR(50),\n",
                "    city NVARCHAR(50),\n",
                "    CONSTRAINT pk_Address PRIMARY KEY (id),\n",
                ");\n",
                "\n",
                "CREATE TABLE Customer(\n",
                "    id bigint IDENTITY(0,1),\n",
                "    firstName NVARCHAR(50),\n",
                "    lastName NVARCHAR(100),\n",
                "    addressId bigint UNIQUE,\n",
                "    CONSTRAINT pk_Customer PRIMARY KEY (id),\n",
                "    CONSTRAINT fk_Address FOREIGN KEY (addressId) REFERENCES Address(id) \n",
                "        on UPDATE CASCADE\n",
                ");\n",
                "\n",
                "-- drop TABLE Customer,Address;\n",
                "\n",
                "\n",
                "\n",
                "--2.\tChange the relationship, such that multiple customers can use the same address\n",
                "CREATE TABLE Address(\n",
                "    id bigint IDENTITY(0,1),\n",
                "    street NVARCHAR(50),\n",
                "    city NVARCHAR(50),\n",
                "    CONSTRAINT pk_Address PRIMARY KEY (id)\n",
                ");\n",
                "\n",
                "CREATE TABLE Customer(\n",
                "    id bigint IDENTITY(0,1),\n",
                "    firstName NVARCHAR(50),\n",
                "    lastName NVARCHAR(100),\n",
                "    addressId bigint,\n",
                "    CONSTRAINT pk_Customer PRIMARY KEY (id),\n",
                "    CONSTRAINT fk_Address FOREIGN KEY (addressId) REFERENCES Address(id) \n",
                "        on UPDATE CASCADE\n",
                ");\n",
                "\n",
                "-- drop TABLE Customer,Address;\n",
                "\n",
                "\n",
                "--3.\tCreate a 1-N relationship between a customer and a number of orders.\n",
                "\n",
                "CREATE TABLE Customer(\n",
                "    id bigint IDENTITY(0,1),\n",
                "    firstName NVARCHAR(50),\n",
                "    lastName NVARCHAR(100),\n",
                "    CONSTRAINT pk_Customer PRIMARY KEY (id)\n",
                ");\n",
                "\n",
                "----named COrder as 'Order' is a keyword\n",
                "----decided to make this a weak entity\n",
                "CREATE TABLE COrder(\n",
                "    id bigint IDENTITY(0,1),\n",
                "    customerId bigint,\n",
                "    CONSTRAINT pk_COrder PRIMARY key (id),\n",
                "    CONSTRAINT fk_Customer FOREIGN key (customerId) REFERENCES Customer(id)\n",
                "        on UPDATE CASCADE\n",
                "        on DELETE CASCADE --weak entity\n",
                ")\n",
                "\n",
                "-- drop TABLE COrder,Customer;\n",
                "\n",
                "--4.\tCreate a N-N relationship between an order and its items. The same item can occur on multiple orders.\n",
                "\n",
                "CREATE TABLE COrder (\n",
                "    order_id INT PRIMARY KEY,\n",
                "    customer_id INT,\n",
                "    order_date DATE\n",
                ")\n",
                "\n",
                "CREATE TABLE Item (\n",
                "    item_id INT PRIMARY KEY,\n",
                "    item_name VARCHAR(100),\n",
                "    item_price DECIMAL(10, 2)\n",
                ")\n",
                "\n",
                "-- Junction table for the many-to-many relationship between orders and items\n",
                "CREATE TABLE COrder_Item (\n",
                "    order_id INT,\n",
                "    item_id INT,\n",
                "    PRIMARY KEY (order_id, item_id),\n",
                "    FOREIGN KEY (order_id) REFERENCES COrder(order_id),\n",
                "    FOREIGN KEY (item_id) REFERENCES Item(item_id)\n",
                ")\n",
                "\n",
                "-- DROP TABLE CustomerCOrder,COrder,Customer;"
            ]
        }
    ],
    "metadata": {
        "kernelspec": {
            "display_name": "SQL",
            "language": "sql",
            "name": "SQL"
        },
        "language_info": {
            "name": "sql",
            "version": ""
        }
    },
    "nbformat": 4,
    "nbformat_minor": 2
}
